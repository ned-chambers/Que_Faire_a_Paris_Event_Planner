{
 "cells": [
  {
   "cell_type": "code",
   "execution_count": 15,
   "metadata": {},
   "outputs": [],
   "source": [
    "import pandas as pd\n",
    "import datetime as dt\n",
    "import re\n",
    "\n",
    "df = pd.read_csv(\"que-faire-a-paris-.csv\", sep=\t\";\")"
   ]
  },
  {
   "cell_type": "code",
   "execution_count": 16,
   "metadata": {},
   "outputs": [],
   "source": [
    "# Categorise columns according to whether or not to use them: \"Yes\", \"No\", \"Maybe\"\n",
    "columns_to_keep = {\n",
    "    \"ID\" : \"Yes\",\n",
    "    \"URL\" : \"Yes\",\n",
    "    \"Titre\" : \"Yes\",\n",
    "    \"Chapeau\" : \"Yes\",\n",
    "    \"Description\" : \"Later\",\n",
    "    \"Date de début\" : \"Yes\",\n",
    "    \"Date de fin\" : \"Yes\",\n",
    "    \"Occurrences\" : \"Maybe\",\n",
    "    \"Description de la date\" : \"Maybe\",\n",
    "    \"URL de l'image\" : \"No\",\n",
    "    \"Texte alternatif de l'image\" : \"No\",\n",
    "    \"Crédit de l'image\" : \"No\",\n",
    "    \"Mots clés\" : \"Yes\",\n",
    "    \"Nom du lieu\" : \"Yes\",\n",
    "    \"Adresse du lieu\" : \"Yes\",\n",
    "    \"Code postal\" : \"Yes\",\n",
    "    \"Ville\" : \"Yes\",\n",
    "    \"Coordonnées géographiques\" : \"Yes\",\n",
    "    \"Accès PMR\" : \"Yes\",\n",
    "    \"Accès mal voyant\" : \"Yes\",\n",
    "    \"Accès mal entendant\" : \"Yes\",\n",
    "    \"Transport\" : \"Later\",\n",
    "    \"Url de contact\" : \"No\",\n",
    "    \"Téléphone de contact\" : \"No\",\n",
    "    \"Email de contact\" : \"No\",\n",
    "    \"URL Facebook associée\" : \"No\",\n",
    "    \"URL Twitter associée\" : \"No\",\n",
    "    \"Type de prix\" : \"Yes\",\n",
    "    \"Détail du prix\" : \"Maybe\",\n",
    "    \"Type d'accès\" : \"Later\",\n",
    "    \"URL de réservation\" : \"Yes\",\n",
    "    \"URL de réservation - Texte\" : \"No\",\n",
    "    \"Date de mise à jour\" : \"Yes\",\n",
    "    \"Image de couverture\" : \"No\",\n",
    "    \"Programmes\" : \"Maybe\",\n",
    "    \"En ligne - address_url\" : \"No\",\n",
    "    \"En ligne - address_url_text\" : \"No\",\n",
    "    \"En ligne - address_text\" : \"No\",\n",
    "    \"title_event\" : \"No\",\n",
    "    \"audience\" : \"Yes\",\n",
    "    \"childrens\" : \"No\",\n",
    "    \"group\" : \"No\",\n",
    "    \"locale\" : \"No\",\n",
    "    \"rank\" : \"No\",\n",
    "    \"weight\" : \"No\"\n",
    "}"
   ]
  },
  {
   "cell_type": "code",
   "execution_count": 17,
   "metadata": {},
   "outputs": [],
   "source": [
    "# Filter the dataset to only have the columns that are marked \"Yes\" in the dictionary \"columns_to_keep\"\n",
    "df_filtered = df[[col for col in df.columns if columns_to_keep[col] == \"Yes\"]]"
   ]
  },
  {
   "cell_type": "code",
   "execution_count": 18,
   "metadata": {},
   "outputs": [],
   "source": [
    "# Drop duplicates\n",
    "df_filtered = df_filtered.drop_duplicates()"
   ]
  },
  {
   "cell_type": "code",
   "execution_count": 19,
   "metadata": {},
   "outputs": [],
   "source": [
    "# Impute missing values in \"Titre\", \"Chapeau\", \"Mots clés\", \"Nom de lieu\", \"Adresse du lieu\", \"Détail du prix\", \"URL de réservation\" with \"N/A\"\n",
    "df_filtered[\"Titre\"] = df_filtered[\"Titre\"].fillna(\"N/A\")\n",
    "df_filtered[\"Chapeau\"] = df_filtered[\"Chapeau\"].fillna(\"N/A\")\n",
    "df_filtered[\"Mots clés\"] = df_filtered[\"Mots clés\"].fillna(\"N/A\")\n",
    "df_filtered[\"Nom du lieu\"] = df_filtered[\"Nom du lieu\"].fillna(\"N/A\")\n",
    "df_filtered[\"Adresse du lieu\"] = df_filtered[\"Adresse du lieu\"].fillna(\"N/A\")\n",
    "df_filtered[\"URL de réservation\"] = df_filtered[\"URL de réservation\"].fillna(\"N/A\")"
   ]
  },
  {
   "cell_type": "code",
   "execution_count": 20,
   "metadata": {},
   "outputs": [],
   "source": [
    "# Impute missing values in \"Code postal\" with \"75000\"\n",
    "df_filtered[\"Code postal\"] = df_filtered[\"Code postal\"].fillna(\"75000\")"
   ]
  },
  {
   "cell_type": "code",
   "execution_count": 21,
   "metadata": {},
   "outputs": [],
   "source": [
    "# Impute missing values in \"Ville\" with \"Paris\"\n",
    "df_filtered[\"Ville\"] = df_filtered[\"Ville\"].fillna(\"Paris\")"
   ]
  },
  {
   "cell_type": "code",
   "execution_count": 22,
   "metadata": {},
   "outputs": [],
   "source": [
    "# changer les données de la colonne 'Accès PMR' si = 1 alors 'Accès PMR' sinon NULL\n",
    "df_filtered['Accès PMR'] = df_filtered['Accès PMR'].apply(lambda x: 'Accès PMR' if x == 1 else \"Pas d'accès PMR\")\n",
    "df_filtered['Accès mal voyant'] = df_filtered['Accès mal voyant'].apply(lambda x: 'Accès mal voyant' if x == 1 else \"Pas d'accès mal voyant\")\n",
    "df_filtered['Accès mal entendant'] = df_filtered['Accès mal entendant'].apply(lambda x: 'Accès mal entendant' if x == 1 else \"Pas d'accès mal entendant\")"
   ]
  },
  {
   "cell_type": "code",
   "execution_count": 23,
   "metadata": {},
   "outputs": [],
   "source": [
    "# Regrouper les colonnes  'Accés PMR', 'Accés mal voyant' et Accés mal entendant' en une seule colonne 'Accessibilité' avec le détail des trois colonnes\n",
    "df_filtered['Accessibilité'] = df_filtered['Accès PMR'] + ' – ' + df_filtered['Accès mal voyant'] + ' – ' + df_filtered['Accès mal entendant']"
   ]
  },
  {
   "cell_type": "code",
   "execution_count": 24,
   "metadata": {},
   "outputs": [],
   "source": [
    "# Impute missing values in \"Date de début\"  with datetime.today() and missing values in \"Date de fin\" with the last date of the year\n",
    "today = dt.datetime.today()\n",
    "last_day_of_year = dt.datetime(today.year, 12, 31)\n",
    "df_filtered[\"Date de début\"] = df_filtered[\"Date de début\"].fillna(today)\n",
    "df_filtered[\"Date de fin\"] = df_filtered[\"Date de fin\"].fillna(last_day_of_year)\n",
    "\n",
    "# Impute missing values in \"Date de mise à jour\" with the most recent date in the column\n",
    "df_filtered[\"Date de mise à jour\"] = df_filtered[\"Date de mise à jour\"].fillna(df_filtered[\"Date de mise à jour\"].max())\n"
   ]
  },
  {
   "cell_type": "code",
   "execution_count": 25,
   "metadata": {},
   "outputs": [],
   "source": [
    "def clean_code_postal(code):\n",
    "    # Strip spaces\n",
    "    code = code.strip()\n",
    "    # Replace all spaces with empty string\n",
    "    code = re.sub(r'\\s+', '', code)\n",
    "    # Remove everything after the last number\n",
    "    code = re.sub(r'\\D+$', '', code)\n",
    "    # If there are only 4 digits, add a leading zero\n",
    "    if len(code) == 4:\n",
    "        code = \"0\" + code\n",
    "    # Use a regular expression to replace anything that is not a 5-digit number with the value \"75000\"\n",
    "    if not re.match(r'^\\d{5}$', code):\n",
    "        code = \"75000\"\n",
    "    return code\n",
    "\n",
    "df_filtered[\"Code postal\"] = df_filtered[\"Code postal\"].apply(clean_code_postal)"
   ]
  },
  {
   "cell_type": "code",
   "execution_count": 26,
   "metadata": {},
   "outputs": [],
   "source": [
    "# Pipeline for treating the \"Ville\" column\n",
    "def clean_ville(ville):\n",
    "    # Strip spaces at the end or beginning\n",
    "    ville = ville.strip()\n",
    "    # If the string starts with \"Paris\", replace it with \"Paris\"\n",
    "    if ville.startswith(\"Paris\"):\n",
    "        ville = \"Paris\"\n",
    "    # Convert all values to title case\n",
    "    ville = ville.title()\n",
    "    return ville\n",
    "\n",
    "df_filtered[\"Ville\"] = df_filtered[\"Ville\"].apply(clean_ville)"
   ]
  },
  {
   "cell_type": "code",
   "execution_count": 27,
   "metadata": {},
   "outputs": [],
   "source": [
    "# Convert \"Type de prix\" to title case\n",
    "df_filtered[\"Type de prix\"] = df_filtered[\"Type de prix\"].str.title()"
   ]
  }
 ],
 "metadata": {
  "kernelspec": {
   "display_name": "Python 3",
   "language": "python",
   "name": "python3"
  },
  "language_info": {
   "codemirror_mode": {
    "name": "ipython",
    "version": 3
   },
   "file_extension": ".py",
   "mimetype": "text/x-python",
   "name": "python",
   "nbconvert_exporter": "python",
   "pygments_lexer": "ipython3",
   "version": "3.12.6"
  }
 },
 "nbformat": 4,
 "nbformat_minor": 2
}
